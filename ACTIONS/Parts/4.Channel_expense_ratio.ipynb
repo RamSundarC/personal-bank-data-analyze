{
 "cells": [
  {
   "cell_type": "code",
   "execution_count": null,
   "metadata": {},
   "outputs": [],
   "source": [
    "import pandas as pd\n",
    "import matplotlib.pyplot as plt\n",
    "\n",
    "path_map=\"/home/ram/Desktop/HELLO/EXCEL/file.xlsx\"\n",
    "df=pd.read_excel(path_map)\n",
    "df[\"Date\"]=pd.to_datetime(df[\"Date\"])\n",
    "\n",
    "\n",
    "\n",
    "df[\"Month\"]=df['Date'].dt.month_name()\n",
    "\n",
    "from_date=input(\"Enter From date in (YYYY-MM-DD):  \")\n",
    "to_date=input(\"Enter To date in (YYYY-MM-DD):  \")\n",
    "# 2022-01-01 || 2022-03-31\n",
    "\n",
    "filter_df=df[(df['Date']>=from_date)& (df['Date']<=to_date)]\n",
    "\n",
    "filter_df\n",
    "\n",
    "debit=filter_df[filter_df['Nature']==\"Debit\"]\n",
    "\n",
    "upi=debit[debit[\"Channel\"]==\"UPI\"]\n",
    "dr_card=debit[debit[\"Channel\"]==\"CARD\"]\n",
    "\n",
    "net_bank=debit[debit[\"Channel\"]==\"NET BANKING\"]\n",
    "atm=debit[debit[\"Channel\"]==\"ATM\"]\n",
    "\n",
    "total_upi=upi[\"Amount\"].sum()\n",
    "total_net_bank=net_bank[\"Amount\"].sum()\n",
    "total_card=dr_card[\"Amount\"].sum()\n",
    "total_atm=atm[\"Amount\"].sum()\n",
    "\n",
    "\n",
    "elements=[total_card,total_atm,total_upi,total_net_bank]\n",
    "labeller=[\"CARD\",\"ATM\",\"UPI\",\"NET_BANKING\"]\n",
    "\n",
    "\n",
    "opter=int(input(\"Select to View\\n1.Overall Channel_wise\\n2.Card\\n3.ATM\\n4.UPI\\n5.NET_BANKING\"))\n",
    "\n",
    "if opter==1:\n",
    "\n",
    "    plt.pie(elements,labels=labeller,labeldistance=1.25,startangle=90,autopct='%1.3f%%',explode=[0.025,0.025,0.025,0.025],pctdistance=1)\n",
    "\n",
    "    rounder=plt.Circle((0,0),0.5,fc=\"white\")\n",
    "\n",
    "    fig=plt.gcf()\n",
    "\n",
    "    fig.gca().add_artist(rounder)\n",
    "\n",
    "    result=plt.show()\n",
    "\n",
    "elif opter==2:\n",
    "    result=dr_card\n",
    "\n",
    "elif opter==3:\n",
    "    result=atm\n",
    "\n",
    "elif opter==4:\n",
    "    result=upi\n",
    "\n",
    "elif opter==5:\n",
    "    result=net_bank\n",
    "\n",
    "result"
   ]
  }
 ],
 "metadata": {
  "kernelspec": {
   "display_name": "Python 3",
   "language": "python",
   "name": "python3"
  },
  "language_info": {
   "codemirror_mode": {
    "name": "ipython",
    "version": 3
   },
   "file_extension": ".py",
   "mimetype": "text/x-python",
   "name": "python",
   "nbconvert_exporter": "python",
   "pygments_lexer": "ipython3",
   "version": "3.10.6"
  },
  "orig_nbformat": 4,
  "vscode": {
   "interpreter": {
    "hash": "916dbcbb3f70747c44a77c7bcd40155683ae19c65e1c03b4aa3499c5328201f1"
   }
  }
 },
 "nbformat": 4,
 "nbformat_minor": 2
}
