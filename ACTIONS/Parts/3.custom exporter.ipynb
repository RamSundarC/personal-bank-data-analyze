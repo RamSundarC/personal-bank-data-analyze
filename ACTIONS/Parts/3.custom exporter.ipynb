{
 "cells": [
  {
   "cell_type": "code",
   "execution_count": null,
   "metadata": {},
   "outputs": [],
   "source": [
    "\n",
    "import pandas as pd\n",
    "\n",
    "df=pd.read_excel('/home/ram/Desktop/HELLO/EXCEL/file.xlsx',index_col=None)\n",
    "df['Date']=pd.to_datetime(df['Date'])\n",
    "\n",
    "\n",
    "\n",
    "df[\"Month\"]=df['Date'].dt.month_name()\n",
    "\n",
    "from_date=input(\"Enter From date in (YYYY-MM-DD):  \")\n",
    "to_date=input(\"Enter To date in (YYYY-MM-DD):  \")\n",
    "# 2022-01-01 || 2022-03-31\n",
    "\n",
    "\n",
    "\n",
    "filter_df=df[(df['Date']>=from_date)& (df['Date']<=to_date)]\n",
    "\n",
    "inp_expo=int(input(\"Select how to export data \\n 1.CSV\\n 2.XLS\\n 3.TXT \\n 4.View only:\"))\n",
    "if inp_expo==4:\n",
    "    result=filter_df\n",
    "\n",
    "elif inp_expo==1:\n",
    "    result=filter_df.to_csv(\"CSV_file.csv\")\n",
    "\n",
    "elif inp_expo==3:\n",
    "    result=filter_df.to_csv(\"Text_file.txt\",sep=\" \")\n",
    "\n",
    "elif inp_expo==2:\n",
    "    result=filter_df.to_excel(\"Excel_file.xlsx\")\n",
    "\n",
    "\n",
    "result"
   ]
  }
 ],
 "metadata": {
  "kernelspec": {
   "display_name": "Python 3",
   "language": "python",
   "name": "python3"
  },
  "language_info": {
   "codemirror_mode": {
    "name": "ipython",
    "version": 3
   },
   "file_extension": ".py",
   "mimetype": "text/x-python",
   "name": "python",
   "nbconvert_exporter": "python",
   "pygments_lexer": "ipython3",
   "version": "3.10.6"
  },
  "orig_nbformat": 4,
  "vscode": {
   "interpreter": {
    "hash": "916dbcbb3f70747c44a77c7bcd40155683ae19c65e1c03b4aa3499c5328201f1"
   }
  }
 },
 "nbformat": 4,
 "nbformat_minor": 2
}
